{
 "cells": [
  {
   "cell_type": "markdown",
   "metadata": {},
   "source": [
    "# Aim of this notebook\n",
    "\n",
    "* To construct the singular curve of universal type to finalize the solution of the optimal control problem"
   ]
  },
  {
   "cell_type": "markdown",
   "metadata": {},
   "source": [
    "# Preamble"
   ]
  },
  {
   "cell_type": "code",
   "execution_count": 21,
   "metadata": {},
   "outputs": [],
   "source": [
    "from sympy import *\n",
    "init_printing(use_latex='mathjax')\n",
    "\n",
    "# Plotting\n",
    "%matplotlib inline\n",
    "## Make inline plots raster graphics\n",
    "from IPython.display import set_matplotlib_formats\n",
    "## Import modules for plotting and data analysis\n",
    "import matplotlib.pyplot as plt\n",
    "from matplotlib import gridspec,rc,colors\n",
    "import matplotlib.ticker as plticker\n",
    "## Parameters for seaborn plots\n",
    "import seaborn as sns\n",
    "sns.set(style='white',font_scale=1.25,\n",
    "        rc={\"xtick.major.size\": 6, \"ytick.major.size\": 6,\n",
    "            'text.usetex': False, 'font.family': 'serif', 'font.serif': ['Times']})\n",
    "\n",
    "import pandas as pd\n",
    "pd.set_option('mode.chained_assignment',None)\n",
    "\n",
    "import numpy as np\n",
    "from scipy.optimize import fsolve, root\n",
    "from scipy.integrate import ode\n",
    "backend = 'dopri5'\n",
    "import warnings\n",
    "\n",
    "# Timer\n",
    "import time\n",
    "\n",
    "from copy import deepcopy\n",
    "\n",
    "from itertools import cycle\n",
    "palette_size = 10;\n",
    "clrs = sns.color_palette(\"Reds\",palette_size)\n",
    "iclrs = cycle(clrs) # iterated colors\n",
    "\n",
    "clrs0 = sns.color_palette(\"Set1\",palette_size)\n",
    "\n",
    "# Suppress warnings\n",
    "import warnings\n",
    "warnings.filterwarnings(\"ignore\")"
   ]
  },
  {
   "cell_type": "markdown",
   "metadata": {},
   "source": [
    "# Parameter values"
   ]
  },
  {
   "cell_type": "markdown",
   "metadata": {},
   "source": [
    "* Birth rate and const of downregulation are defined below in order to fit some experim. data"
   ]
  },
  {
   "cell_type": "code",
   "execution_count": 2,
   "metadata": {},
   "outputs": [],
   "source": [
    "d = .13 # death rate\n",
    "c = .04 # cost of resistance\n",
    "α = .3 # low equilibrium point at expression of the main pathway (high equilibrium is at one)\n",
    "θ = .45 # threshold value for the expression of the main pathway\n",
    "κ = 40 # robustness parameter\n",
    "L = .2 # parameter used to model the effect of treatment (see the line below)"
   ]
  },
  {
   "cell_type": "markdown",
   "metadata": {},
   "source": [
    "* Symbolic variables - the list insludes μ & μbar, because they will be varied later"
   ]
  },
  {
   "cell_type": "code",
   "execution_count": 3,
   "metadata": {},
   "outputs": [],
   "source": [
    "σ, φ0, φ, x, μ, μbar = symbols('sigma, phi0, phi, x, mu, mubar')"
   ]
  },
  {
   "cell_type": "markdown",
   "metadata": {},
   "source": [
    "* Main functions"
   ]
  },
  {
   "cell_type": "code",
   "execution_count": 4,
   "metadata": {},
   "outputs": [],
   "source": [
    "A = 1-σ*(1-θ)*(1-L)\n",
    "Θ = θ+σ*(1-θ)*L\n",
    "Eminus = (α*A-Θ)**2/2\n",
    "ΔE = A*(1-α)*((1+α)*A/2-Θ)\n",
    "ΔEf = lambdify(σ,ΔE)"
   ]
  },
  {
   "cell_type": "markdown",
   "metadata": {},
   "source": [
    "* Birth rate and cost of downregulation"
   ]
  },
  {
   "cell_type": "code",
   "execution_count": 5,
   "metadata": {},
   "outputs": [
    {
     "data": {
      "text/latex": [
       "$$\\left ( 0.140154784911281, \\quad 0.299759386875464\\right )$$"
      ],
      "text/plain": [
       "(0.140154784911281, 0.299759386875464)"
      ]
     },
     "execution_count": 5,
     "metadata": {},
     "output_type": "execute_result"
    }
   ],
   "source": [
    "b = (0.1*(exp(κ*(ΔEf(1)))+1)-0.14*(exp(κ*ΔEf(0))+1))/(exp(κ*ΔEf(1))-exp(κ*ΔEf(0))) # birth rate\n",
    "χ = 1-(0.14*(exp(κ*ΔEf(0))+1)-b*exp(κ*ΔEf(0)))/b\n",
    "b, χ"
   ]
  },
  {
   "cell_type": "markdown",
   "metadata": {},
   "source": [
    "* Hamiltonian *H* and a part of it ρ that includes the control variable σ"
   ]
  },
  {
   "cell_type": "code",
   "execution_count": 6,
   "metadata": {},
   "outputs": [
    {
     "data": {
      "text/latex": [
       "$$\\left ( \\phi \\left(\\frac{\\mu \\left(- x + 1\\right)}{e^{40 \\left(- 0.396 \\sigma + 0.2\\right) \\left(- 0.308 \\sigma + 0.7\\right)} + 1} - \\bar{\\mu} x e^{- 20 \\left(- 0.242 \\sigma - 0.15\\right)^{2}} + x \\left(-0.00560619139645122 + \\frac{0.042012712392668}{e^{40 \\left(- 0.396 \\sigma + 0.2\\right) \\left(- 0.308 \\sigma + 0.7\\right)} + 1}\\right) \\left(- x + 1\\right)\\right) - \\phi_{0} + 0.00560619139645122 x + \\frac{0.042012712392668 \\left(- x + 1\\right)}{e^{40 \\left(- 0.396 \\sigma + 0.2\\right) \\left(- 0.308 \\sigma + 0.7\\right)} + 1}, \\quad - \\bar{\\mu} \\phi x e^{- 20 \\left(- 0.242 \\sigma - 0.15\\right)^{2}} + \\frac{\\left(- x + 1\\right) \\left(\\phi \\left(\\mu + 0.042012712392668 x\\right) + 0.042012712392668\\right)}{e^{40 \\left(- 0.396 \\sigma + 0.2\\right) \\left(- 0.308 \\sigma + 0.7\\right)} + 1}\\right )$$"
      ],
      "text/plain": [
       "⎛  ⎛                                                                       2  \n",
       "⎜  ⎜                μ⋅(-x + 1)                        -20⋅(-0.242⋅σ - 0.15)   \n",
       "⎜φ⋅⎜───────────────────────────────────────── - μ̅⋅x⋅ℯ                       +\n",
       "⎜  ⎜ 40⋅(-0.396⋅σ + 0.2)⋅(-0.308⋅σ + 0.7)                                     \n",
       "⎝  ⎝ℯ                                     + 1                                 \n",
       "\n",
       "                                                                              \n",
       "   ⎛                                   0.042012712392668            ⎞         \n",
       " x⋅⎜-0.00560619139645122 + ─────────────────────────────────────────⎟⋅(-x + 1)\n",
       "   ⎜                        40⋅(-0.396⋅σ + 0.2)⋅(-0.308⋅σ + 0.7)    ⎟         \n",
       "   ⎝                       ℯ                                     + 1⎠         \n",
       "\n",
       "⎞                                                                             \n",
       "⎟                                        0.042012712392668⋅(-x + 1)           \n",
       "⎟ - φ₀ + 0.00560619139645122⋅x + ─────────────────────────────────────────, - \n",
       "⎟                                 40⋅(-0.396⋅σ + 0.2)⋅(-0.308⋅σ + 0.7)        \n",
       "⎠                                ℯ                                     + 1    \n",
       "\n",
       "                             2                                                \n",
       "        -20⋅(-0.242⋅σ - 0.15)    (-x + 1)⋅(φ⋅(μ + 0.042012712392668⋅x) + 0.042\n",
       "μ̅⋅φ⋅x⋅ℯ                       + ─────────────────────────────────────────────\n",
       "                                          40⋅(-0.396⋅σ + 0.2)⋅(-0.308⋅σ + 0.7)\n",
       "                                         ℯ                                    \n",
       "\n",
       "             ⎞\n",
       "012712392668)⎟\n",
       "─────────────⎟\n",
       "             ⎟\n",
       " + 1         ⎠"
      ]
     },
     "execution_count": 6,
     "metadata": {},
     "output_type": "execute_result"
    }
   ],
   "source": [
    "h = b*(χ/(exp(κ*ΔE)+1)*(1-x)+c*x)\n",
    "H = -φ0 + φ*(b*(χ/(exp(κ*ΔE)+1)-c)*x*(1-x)+μ*(1-x)/(exp(κ*ΔE)+1)-μbar*exp(-κ*Eminus)*x) + h\n",
    "ρ = (φ*(b*χ*x+μ)+b*χ)/(exp(κ*ΔE)+1)*(1-x)-φ*μbar*exp(-κ*Eminus)*x\n",
    "ρ1 = (φ*(b*χ*x+μ)+b*χ)/(exp(κ*ΔE)+1)*(1-x)\n",
    "ρ2 = φ*μbar*exp(-κ*Eminus)*x\n",
    "H, ρ"
   ]
  },
  {
   "cell_type": "markdown",
   "metadata": {},
   "source": [
    "* Same but for no treatment (σ = 0)"
   ]
  },
  {
   "cell_type": "code",
   "execution_count": 7,
   "metadata": {},
   "outputs": [
    {
     "data": {
      "text/latex": [
       "$$\\left ( \\phi \\left(0.00368423989943599 \\mu \\left(- x + 1\\right) - 0.637628151621773 \\bar{\\mu} x - 0.00545140648517063 x \\left(- x + 1\\right)\\right) - \\phi_{0} + 0.00545140648517063 x + 0.000154784911280596, \\quad - 0.637628151621773 \\bar{\\mu} \\phi x + 0.00368423989943599 \\left(- x + 1\\right) \\left(\\phi \\left(\\mu + 0.042012712392668 x\\right) + 0.042012712392668\\right)\\right )$$"
      ],
      "text/plain": [
       "(φ⋅(0.00368423989943599⋅μ⋅(-x + 1) - 0.637628151621773⋅μ̅⋅x - 0.00545140648517\n",
       "063⋅x⋅(-x + 1)) - φ₀ + 0.00545140648517063⋅x + 0.000154784911280596, -0.637628\n",
       "151621773⋅μ̅⋅φ⋅x + 0.00368423989943599⋅(-x + 1)⋅(φ⋅(μ + 0.042012712392668⋅x) +\n",
       " 0.042012712392668))"
      ]
     },
     "execution_count": 7,
     "metadata": {},
     "output_type": "execute_result"
    }
   ],
   "source": [
    "h0 = h.subs(σ,0)\n",
    "H0 = H.subs(σ,0)\n",
    "ρ0 = ρ.subs(σ,0)\n",
    "H0, ρ0"
   ]
  },
  {
   "cell_type": "markdown",
   "metadata": {},
   "source": [
    "* Machinery: definition of the Poisson brackets"
   ]
  },
  {
   "cell_type": "code",
   "execution_count": 8,
   "metadata": {},
   "outputs": [],
   "source": [
    "PoissonBrackets = lambda H1, H2: diff(H1,x)*diff(H2,φ)-diff(H1,φ)*diff(H2,x)"
   ]
  },
  {
   "cell_type": "markdown",
   "metadata": {},
   "source": [
    "* Necessary functions and defining the right hand side of dynamical equations"
   ]
  },
  {
   "cell_type": "code",
   "execution_count": 9,
   "metadata": {},
   "outputs": [],
   "source": [
    "ρf = lambdify((x,φ,σ,μ,μbar),ρ)\n",
    "ρ1f = lambdify((x,φ,σ,μ,μbar),ρ1)\n",
    "ρ2f = lambdify((x,φ,σ,μ,μbar),ρ2)\n",
    "ρ0f = lambdify((x,φ,μ,μbar),ρ0)\n",
    "dxdτ = lambdify((x,φ,σ,μ,μbar),-diff(H,φ))\n",
    "dφdτ = lambdify((x,φ,σ,μ,μbar),diff(H,x))\n",
    "dVdτ = lambdify((x,σ),h)\n",
    "dρdσ = lambdify((σ,x,φ,μ,μbar),diff(ρ,σ))\n",
    "dδρdτ = lambdify((x,φ,σ,μ,μbar),-PoissonBrackets(ρ0-ρ,H))\n",
    "def ode_rhs(t,state,μ,μbar):\n",
    "    x, φ, V, δρ = state\n",
    "    σs = [0,1]\n",
    "    if (dρdσ(1.,x,φ,μ,μbar)<0) and (dρdσ(θ,x,φ,μ,μbar)>0):\n",
    "        σstar = fsolve(dρdσ,.8,args=(x,φ,μ,μbar,))[0]\n",
    "    else:\n",
    "        σstar = 1.;\n",
    "    if ρf(x,φ,σstar,μ,μbar) < ρ0f(x,φ,μ,μbar):\n",
    "        sgm = 0\n",
    "    else:\n",
    "        sgm = σstar\n",
    "    return [dxdτ(x,φ,sgm,μ,μbar),dφdτ(x,φ,sgm,μ,μbar),dVdτ(x,sgm),dδρdτ(x,φ,σstar,μ,μbar)]\n",
    "def σstarf(x,φ,μ,μbar):\n",
    "    if (dρdσ(1.,x,φ,μ,μbar)<0) and (dρdσ(θ,x,φ,μ,μbar)>0):\n",
    "        σstar = fsolve(dρdσ,.8,args=(x,φ,μ,μbar,))[0]\n",
    "    else:\n",
    "        σstar = 1.;\n",
    "    if ρf(x,φ,σstar,μ,μbar) < ρ0f(x,φ,μ,μbar):\n",
    "        sgm = 0\n",
    "    else:\n",
    "        sgm = σstar\n",
    "    return sgm"
   ]
  },
  {
   "cell_type": "code",
   "execution_count": 10,
   "metadata": {},
   "outputs": [],
   "source": [
    "def get_primary_field(name, experiment,μ,μbar):\n",
    "    solutions = {}\n",
    "    solver = ode(ode_rhs).set_integrator(backend)\n",
    "    τ0 = experiment['τ0']\n",
    "    tms = np.linspace(τ0,experiment['T_end'],1e3+1)\n",
    "    for x0 in experiment['x0']:\n",
    "        δρ0 = ρ0.subs(x,x0).subs(φ,0)-ρ.subs(x,x0).subs(φ,0).subs(σ,1.)\n",
    "        solver.set_initial_value([x0,0,0,δρ0],0.).set_f_params(μ,μbar)\n",
    "        sol = []; k = 0;\n",
    "        while (solver.t < experiment['T_end']) and (solver.y[0]<=1.) and (solver.y[0]>=0.):\n",
    "            solver.integrate(tms[k])\n",
    "            sol.append([solver.t]+list(solver.y))\n",
    "            k += 1\n",
    "        solutions[x0] = {'solution': sol}\n",
    "    for x0, entry in solutions.items():\n",
    "        entry['τ'] = [entry['solution'][j][0] for j in range(len(entry['solution']))]\n",
    "        entry['x'] = [entry['solution'][j][1] for j in range(len(entry['solution']))]\n",
    "        entry['φ'] = [entry['solution'][j][2] for j in range(len(entry['solution']))]\n",
    "        entry['V'] = [entry['solution'][j][3] for j in range(len(entry['solution']))]\n",
    "        entry['δρ'] = [entry['solution'][j][4] for j in range(len(entry['solution']))]\n",
    "    return solutions\n",
    "def get_δρ_value(tme,x0,μ,μbar):\n",
    "    solver = ode(ode_rhs).set_integrator(backend)\n",
    "    δρ0 = ρ0.subs(x,x0).subs(φ,0)-ρ.subs(x,x0).subs(φ,0).subs(σ,1.)\n",
    "    solver.set_initial_value([x0,0,0,δρ0],0.).set_f_params(μ,μbar)\n",
    "    while (solver.t < tme) and (solver.y[0]<=1.) and (solver.y[0]>=0.):\n",
    "        solver.integrate(tme)\n",
    "        sol = [solver.t]+list(solver.y)\n",
    "    return solver.y[3]\n",
    "def get_δρ_ending(params,μ,μbar):\n",
    "    tme, x0 = params\n",
    "    solver = ode(ode_rhs).set_integrator(backend)\n",
    "    δρ0 = ρ0.subs(x,x0).subs(φ,0)-ρ.subs(x,x0).subs(φ,0).subs(σ,1.)\n",
    "    solver.set_initial_value([x0,0,0,δρ0],0.).set_f_params(μ,μbar)\n",
    "    δτ = 1.0e-8; tms = [tme,tme+δτ]\n",
    "    _k = 0; sol = []\n",
    "    while (_k<len(tms)):# and (solver.y[0]<=1.) and (solver.y[0]>=0.):\n",
    "        solver.integrate(tms[_k])\n",
    "        sol.append(solver.y)\n",
    "        _k += 1\n",
    "    #print(sol)\n",
    "    return(sol[0][3],(sol[1][3]-sol[0][3])/δτ)\n",
    "def get_state(tme,x0,μ,μbar):\n",
    "    solver = ode(ode_rhs).set_integrator(backend)\n",
    "    δρ0 = ρ0.subs(x,x0).subs(φ,0)-ρ.subs(x,x0).subs(φ,0).subs(σ,1.)\n",
    "    solver.set_initial_value([x0,0,0,δρ0],0.).set_f_params(μ,μbar)\n",
    "    δτ = 1.0e-8; tms = [tme,tme+δτ]\n",
    "    _k = 0; sol = []\n",
    "    while (solver.t < tms[-1]) and (solver.y[0]<=1.) and (solver.y[0]>=0.):\n",
    "        solver.integrate(tms[_k])\n",
    "        sol.append(solver.y)\n",
    "        _k += 1\n",
    "    return(list(sol[0])+[(sol[1][3]-sol[0][3])/δτ])"
   ]
  },
  {
   "cell_type": "markdown",
   "metadata": {},
   "source": [
    "# Machinery for the universal line"
   ]
  },
  {
   "cell_type": "markdown",
   "metadata": {},
   "source": [
    "* To find the universal singular curve we need to define two parameters"
   ]
  },
  {
   "cell_type": "code",
   "execution_count": 11,
   "metadata": {},
   "outputs": [],
   "source": [
    "γ0 = PoissonBrackets(PoissonBrackets(H,H0),H)\n",
    "γ1 = PoissonBrackets(PoissonBrackets(H0,H),H0)"
   ]
  },
  {
   "cell_type": "markdown",
   "metadata": {},
   "source": [
    "* The dynamics"
   ]
  },
  {
   "cell_type": "code",
   "execution_count": 12,
   "metadata": {},
   "outputs": [],
   "source": [
    "dxdτSingExpr = -(γ0*diff(H0,φ)+γ1*diff(H,φ))/(γ0+γ1)\n",
    "dφdτSingExpr = (γ0*diff(H0,x)+γ1*diff(H,x))/(γ0+γ1)\n",
    "dVdτSingExpr = (γ0*h0+γ1*h)/(γ0+γ1)\n",
    "σSingExpr = γ1*σ/(γ0+γ1)"
   ]
  },
  {
   "cell_type": "markdown",
   "metadata": {},
   "source": [
    "* Machinery for Python: lambdify the functions above"
   ]
  },
  {
   "cell_type": "code",
   "execution_count": 13,
   "metadata": {},
   "outputs": [],
   "source": [
    "dxdτSing = lambdify((x,φ,σ,μ,μbar),dxdτSingExpr)\n",
    "dφdτSing = lambdify((x,φ,σ,μ,μbar),dφdτSingExpr)\n",
    "dVdτSing = lambdify((x,φ,σ,μ,μbar),dVdτSingExpr)\n",
    "σSing = lambdify((x,φ,σ,μ,μbar),σSingExpr)"
   ]
  },
  {
   "cell_type": "code",
   "execution_count": 14,
   "metadata": {},
   "outputs": [],
   "source": [
    "def ode_rhs_Sing(t,state,μ,μbar):\n",
    "    x, φ, V = state\n",
    "    if (dρdσ(1.,x,φ,μ,μbar)<0) and (dρdσ(θ,x,φ,μ,μbar)>0):\n",
    "        σstar = fsolve(dρdσ,.8,args=(x,φ,μ,μbar,))[0]\n",
    "    else:\n",
    "        σstar = 1.;\n",
    "    return [dxdτSing(x,φ,σstar,μ,μbar),dφdτSing(x,φ,σstar,μ,μbar),dVdτSing(x,φ,σstar,μ,μbar)]\n",
    "def get_universal_curve(end_point,tmax,Nsteps,μ,μbar):\n",
    "    tms =  np.linspace(end_point[0],tmax,Nsteps);\n",
    "    solver = ode(ode_rhs_Sing).set_integrator(backend)\n",
    "    solver.set_initial_value(end_point[1:4],end_point[0]).set_f_params(μ,μbar)\n",
    "    _k = 0; sol = []\n",
    "    while (solver.t < tms[-1]):\n",
    "        solver.integrate(tms[_k])\n",
    "        sol.append([solver.t]+list(solver.y))\n",
    "        _k += 1\n",
    "    return sol\n",
    "def get_σ_universal(tme,end_point,μ,μbar):\n",
    "    δτ = 1.0e-8; tms = [tme,tme+δτ]\n",
    "    solver = ode(ode_rhs_Sing).set_integrator(backend)\n",
    "    solver.set_initial_value(end_point[1:4],end_point[0]).set_f_params(μ,μbar)\n",
    "    _k = 0; sol = []\n",
    "    while (solver.t < tme+δτ):\n",
    "        solver.integrate(tms[_k])\n",
    "        sol.append([solver.t]+list(solver.y))\n",
    "        _k += 1\n",
    "    x, φ = sol[0][:2]\n",
    "    sgm = fsolve(lambda σ: dxdτ(x,φ,σ,μ,μbar)-(sol[1][0]-sol[0][0])/δτ,θ/2)[0]\n",
    "    return sgm\n",
    "def get_state_universal(tme,end_point,μ,μbar):\n",
    "    solver = ode(ode_rhs_Sing).set_integrator(backend)\n",
    "    solver.set_initial_value(end_point[1:4],end_point[0]).set_f_params(μ,μbar)\n",
    "    solver.integrate(tme)\n",
    "    return [solver.t]+list(solver.y)"
   ]
  },
  {
   "cell_type": "code",
   "execution_count": 15,
   "metadata": {},
   "outputs": [],
   "source": [
    "def ode_rhs_with_σstar(t,state,μ,μbar):\n",
    "    x, φ, V = state\n",
    "    if (dρdσ(1.,x,φ,μ,μbar)<0) and (dρdσ(θ,x,φ,μ,μbar)>0):\n",
    "        σ = fsolve(dρdσ,.8,args=(x,φ,μ,μbar,))[0]\n",
    "    else:\n",
    "        σ = 1.;\n",
    "    return [dxdτ(x,φ,σ,μ,μbar),dφdτ(x,φ,σ,μ,μbar),dVdτ(x,σ)]\n",
    "def ode_rhs_with_given_σ(t,state,σ,μ,μbar):\n",
    "    x, φ, V = state\n",
    "    return [dxdτ(x,φ,σ,μ,μbar),dφdτ(x,φ,σ,μ,μbar),dVdτ(x,σ)]\n",
    "def get_trajectory_with_σstar(starting_point,tmax,Nsteps,μ,μbar):\n",
    "    tms = np.linspace(starting_point[0],tmax,Nsteps)\n",
    "    solver = ode(ode_rhs_with_σstar).set_integrator(backend)\n",
    "    solver.set_initial_value(starting_point[1:],starting_point[0]).set_f_params(μ,μbar)\n",
    "    sol = []; _k = 0;\n",
    "    while solver.t < max(tms) and (solver.y[0]<=1.) and (solver.y[0]>=0.):\n",
    "        solver.integrate(tms[_k])\n",
    "        sol.append([solver.t]+list(solver.y))\n",
    "        _k += 1\n",
    "    return sol\n",
    "def get_trajectory_with_given_σ(starting_point,tmax,Nsteps,σ,μ,μbar):\n",
    "    tms = np.linspace(starting_point[0],tmax,100)\n",
    "    solver = ode(ode_rhs_with_given_σ).set_integrator(backend)\n",
    "    solver.set_initial_value(starting_point[1:],starting_point[0]).set_f_params(σ,μ,μbar)\n",
    "    sol = []; _k = 0;\n",
    "    while solver.t < max(tms) and (solver.y[0]<=1.) and (solver.y[0]>=0.):\n",
    "        solver.integrate(tms[_k])\n",
    "        sol.append([solver.t]+list(solver.y))\n",
    "        _k += 1\n",
    "    return sol\n",
    "def get_state_with_σstar(tme,starting_point,μ,μbar):\n",
    "    solver = ode(ode_rhs_with_σstar).set_integrator(backend)\n",
    "    solver.set_initial_value(starting_point[1:4],starting_point[0]).set_f_params(μ,μbar)\n",
    "    solver.integrate(tme)\n",
    "    return [solver.t]+list(solver.y)\n",
    "def get_finalizing_point_from_universal_curve(tme,tmx,end_point,μ,μbar):\n",
    "    unv_point = get_state_universal(tme,end_point,μ,μbar)\n",
    "    return get_state_with_σstar(tmx,unv_point,μ,μbar)[1]"
   ]
  },
  {
   "cell_type": "markdown",
   "metadata": {},
   "source": [
    "# Field of optimal trajectories as the solution of the Bellman equation\n",
    "\n",
    "* μ & μbar are varied by *T* and *T*bar ($\\mu=1/T$ and $\\bar\\mu=1/\\bar{T}$)"
   ]
  },
  {
   "cell_type": "code",
   "execution_count": 16,
   "metadata": {},
   "outputs": [
    {
     "name": "stdout",
     "output_type": "stream",
     "text": [
      "Parameters: μ = 0.03571, μbar = 0.01667\n",
      "Ending point for the switching line: τ = 20.9 days, x = 77.1%\n",
      "Checking the solution - should give zero values: \n",
      "(2.852599443280406e-16, 3.995887647659395e-17)\n",
      "* Constructing the primary field\n",
      "* Constructing the switching curve\n",
      "* Constructing the universal curve\n",
      "* Finding the last characteristic\n",
      "The last point on the universal line:\n",
      "[688.6199123109664, 0.7713878275867576, -0.40997313020945475, 5.6229521162957194]\n",
      "Final state:\n",
      "[720.0, 3.3478081418181205e-13, -0.9389845522405276, 6.385684997465624]\n",
      "Fold-change in tumor size: 2.52\n"
     ]
    }
   ],
   "source": [
    "tmx = 720.\n",
    "end_switching_curve = {'t': 24., 'x': .9/.8} \n",
    "# for Τ, Τbar in zip([28]*5,[14,21,28,35,60]):\n",
    "Τ = 28; Τbar = 60\n",
    "μ = 1./Τ; μbar = 1./Τbar\n",
    "print(\"Parameters: μ = %.5f, μbar = %.5f\"%(μ,μbar))\n",
    "end_switching_curve['t'], end_switching_curve['x'] = fsolve(get_δρ_ending,(end_switching_curve['t'],.8*end_switching_curve['x']),args=(μ,μbar),xtol=1.0e-12)\n",
    "end_point = [end_switching_curve['t']]+get_state(end_switching_curve['t'],end_switching_curve['x'],μ,μbar)\n",
    "print(\"Ending point for the switching line: τ = %.1f days, x = %.1f%%\" % (end_point[0], end_point[1]*100))\n",
    "print(\"Checking the solution - should give zero values: \")\n",
    "print(get_δρ_ending([end_switching_curve['t'],end_switching_curve['x']],μ,μbar))\n",
    "print(\"* Constructing the primary field\")\n",
    "primary_field1 = []\n",
    "experiments = {\n",
    "    'sol1': { 'T_end': tmx, 'τ0': 0., 'x0': list(np.linspace(0,end_switching_curve['x']-(1e-3),7)) } }\n",
    "for name, values in experiments.items():\n",
    "    primary_field1.append(get_primary_field(name,values,μ,μbar))\n",
    "primary_field2 = []\n",
    "experiments = {\n",
    "    'sol1': { 'T_end': tmx, 'τ0': 0., 'x0': list(np.linspace(end_switching_curve['x']+(1e-6),1.,7)) } }\n",
    "for name, values in experiments.items():\n",
    "    primary_field2.append(get_primary_field(name,values,μ,μbar))\n",
    "print(\"* Constructing the switching curve\")\n",
    "switching_curve = []\n",
    "x0s = np.linspace(end_switching_curve['x'],1,21); _y = end_switching_curve['t']\n",
    "\n",
    "for x0 in x0s:\n",
    "    tme = fsolve(get_δρ_value,_y,args=(x0,μ,μbar))[0]\n",
    "    if (tme>0):\n",
    "        switching_curve = switching_curve+[[tme,get_state(tme,x0,μ,μbar)[0]]]\n",
    "        _y = tme\n",
    "print(\"* Constructing the universal curve\")\n",
    "universal_curve = get_universal_curve(end_point,tmx,25,μ,μbar)\n",
    "print(\"* Finding the last characteristic\")\n",
    "#time0 = time.time()\n",
    "tuniv = fsolve(get_finalizing_point_from_universal_curve,tmx-40.,args=(tmx,end_point,μ,μbar,))[0]\n",
    "#print(\"The proccess to find the last characteristic took %0.1f minutes\" % ((time.time()-time0)/60.))\n",
    "univ_point = get_state_universal(tuniv,end_point,μ,μbar)\n",
    "print(\"The last point on the universal line:\")\n",
    "print(univ_point)\n",
    "last_trajectory = get_trajectory_with_σstar(univ_point,tmx,50,μ,μbar)\n",
    "print(\"Final state:\")\n",
    "final_state = get_state_with_σstar(tmx,univ_point,μ,μbar)\n",
    "print(final_state)\n",
    "print(\"Fold-change in tumor size: %.2f\"%(exp((b-d)*tmx-final_state[-1])))"
   ]
  },
  {
   "cell_type": "code",
   "execution_count": 23,
   "metadata": {},
   "outputs": [
    {
     "data": {
      "image/png": "[encoded data removed]",
      "text/plain": [
       "<Figure size 324x230.4 with 1 Axes>"
      ]
     },
     "metadata": {},
     "output_type": "display_data"
    }
   ],
   "source": [
    "# Plotting\n",
    "plt.rcParams['figure.figsize'] = (4.5, 3.2)\n",
    "_k = 0\n",
    "for solutions in primary_field1:\n",
    "    for x0, entry in solutions.items():\n",
    "        plt.plot(entry['τ'], entry['x'], '-', linewidth=1, color=clrs0[1])\n",
    "        _k += 1\n",
    "_k = 0\n",
    "for solutions in primary_field2:\n",
    "    for x0, entry in solutions.items():\n",
    "        plt.plot(entry['τ'], entry['x'], '-', linewidth=1, color=clrs0[1])\n",
    "        _k += 1\n",
    "plt.plot([x[0] for x in switching_curve],[x[1] for x in switching_curve],linewidth=3,color=\"k\",zorder=4,linestyle=\"dashed\")\n",
    "plt.plot([end_point[0]],[end_point[1]],marker='o',color=\"black\",zorder=4)\n",
    "\n",
    "plt.xlim([0,120]); plt.ylim([0,1]);\n",
    "plt.xlabel(\"backward time, days\"); plt.ylabel(\"fraction of resistant cells, %\")\n",
    "# plt.show()\n",
    "plt.savefig(\"../figures/draft/AppendixFig2-0.pdf\",format='pdf',bbox_inches='tight')"
   ]
  },
  {
   "cell_type": "code",
   "execution_count": 24,
   "metadata": {},
   "outputs": [
    {
     "data": {
      "image/png": "[encoded data removed]",
      "text/plain": [
       "<Figure size 324x230.4 with 1 Axes>"
      ]
     },
     "metadata": {},
     "output_type": "display_data"
    }
   ],
   "source": [
    "# Plotting\n",
    "plt.rcParams['figure.figsize'] = (4.5, 3.2)\n",
    "_k = 0\n",
    "for solutions in primary_field1:\n",
    "    for x0, entry in solutions.items():\n",
    "        plt.plot(entry['τ'], entry['x'], '-', linewidth=1, color=clrs0[1])\n",
    "        _k += 1\n",
    "_k = 0\n",
    "for solutions in primary_field2:\n",
    "    for x0, entry in solutions.items():\n",
    "        plt.plot(entry['τ'], entry['x'], '-', linewidth=1, color=clrs0[1])\n",
    "        _k += 1\n",
    "plt.plot([x[0] for x in switching_curve],[x[1] for x in switching_curve],linewidth=3,color=\"k\",zorder=4,linestyle=\"dashed\")\n",
    "# plt.plot([end_point[0]],[end_point[1]],marker='o',color=\"black\",zorder=4)\n",
    "plt.plot([x[0] for x in universal_curve],[x[1] for x in universal_curve],linewidth=3,color=\"k\",zorder=3)\n",
    "for tend in [80,110,140]:\n",
    "    tuniv = fsolve(get_finalizing_point_from_universal_curve,tend-20.,args=(tend,end_point,μ,μbar,))[0]\n",
    "    univ_point = get_state_universal(tuniv,end_point,μ,μbar)\n",
    "    trajectory = get_trajectory_with_σstar(univ_point,tend,50,μ,μbar)\n",
    "    plt.plot([x[0] for x in trajectory],[x[1] for x in trajectory],linewidth=1,color=clrs0[4])\n",
    "    trajectory = get_trajectory_with_given_σ(univ_point,tend+20,100,0,μ,μbar)\n",
    "    plt.plot([x[0] for x in trajectory],[x[1] for x in trajectory],linewidth=1,color=clrs0[4])\n",
    "plt.xlim([0,120]); plt.ylim([0,1]);\n",
    "plt.xlabel(\"backward time, days\"); plt.ylabel(\"fraction of resistant cells, %\")\n",
    "# plt.show()\n",
    "plt.savefig(\"../figures/draft/AppendixFig2-1.pdf\",format='pdf',bbox_inches='tight')"
   ]
  },
  {
   "cell_type": "code",
   "execution_count": 27,
   "metadata": {
    "collapsed": true
   },
   "outputs": [],
   "source": [
    "#ρf = lambdify((x,φ,σ,μ,μbar),ρ)"
   ]
  },
  {
   "cell_type": "code",
   "execution_count": 20,
   "metadata": {},
   "outputs": [
    {
     "name": "stdout",
     "output_type": "stream",
     "text": [
      "100\n"
     ]
    },
    {
     "data": {
      "image/png": "[encoded data removed]",
      "text/plain": [
       "<matplotlib.figure.Figure at 0x1a0bec6390>"
      ]
     },
     "metadata": {},
     "output_type": "display_data"
    }
   ],
   "source": [
    "# Plotting\n",
    "plt.rcParams['figure.figsize'] = (3.5, 2.5)\n",
    "\n",
    "σs = np.linspace(0,1,101)\n",
    "plt.plot(σs,[ρf(.9,0,σ,μ,μbar) for σ in σs],linewidth=2,color=\"k\")\n",
    "σimx = np.argmax([ρf(.9,0,σ,μ,μbar) for σ in σs])\n",
    "print(σimx)\n",
    "plt.plot(σs[σimx],[ρf(.9,0,σs[σimx],μ,μbar)],'ro')\n",
    "plt.plot(σs,[ρ1f(.9,0,σ,μ,μbar) for σ in σs],'g--',linewidth=1,zorder=-5)\n",
    "plt.plot(σs,[ρ2f(.9,0,σ,μ,μbar) for σ in σs],'b--',linewidth=1,zorder=-5)\n",
    "plt.ylim([-.0002,.0042]);\n",
    "plt.savefig(\"../figures/draft/AppendixFig1-A.pdf\",format='pdf',bbox_inches='tight')"
   ]
  },
  {
   "cell_type": "code",
   "execution_count": 21,
   "metadata": {},
   "outputs": [
    {
     "name": "stdout",
     "output_type": "stream",
     "text": [
      "Terminal point:  0.0 0.927744797395 0.0\n",
      "12.24 0.855402663434 -0.294885607032\n",
      "87\n"
     ]
    },
    {
     "data": {
      "image/png": "[encoded data removed]",
      "text/plain": [
       "<matplotlib.figure.Figure at 0x1a157142e8>"
      ]
     },
     "metadata": {},
     "output_type": "display_data"
    }
   ],
   "source": [
    "fig, ax = plt.subplots()\n",
    "for solution in primary_field2:\n",
    "    k = 0\n",
    "    for x0, entry in solution.items():\n",
    "        if (k==0):\n",
    "            print(\"Terminal point: \",entry['τ'][0],entry['x'][0],entry['φ'][0])\n",
    "            kk = 17\n",
    "            print(entry['τ'][kk],entry['x'][kk],entry['φ'][kk])\n",
    "            ρyy = [ρf(entry['x'][kk],entry['φ'][kk],σ,μ,μbar) for σ in σs]\n",
    "            plt.plot(σs,ρyy,linewidth=2,color=\"k\")\n",
    "            σimx = np.argmax(ρyy)\n",
    "            print(σimx)\n",
    "            plt.plot(σs[σimx],ρyy[σimx],'ro')\n",
    "            plt.plot(σs,[ρ1f(entry['x'][kk],entry['φ'][kk],σ,μ,μbar) for σ in σs],'g--',linewidth=1,zorder=-5)\n",
    "            plt.plot(σs,[-ρ2f(entry['x'][kk],entry['φ'][kk],σ,μ,μbar) for σ in σs],'b--',linewidth=1,zorder=-5)\n",
    "            plt.ylim([-.0002,.0042]);\n",
    "            break\n",
    "        k = k + 1\n",
    "plt.savefig(\"../figures/draft/AppendixFig1-B.pdf\",format='pdf',bbox_inches='tight')"
   ]
  },
  {
   "cell_type": "code",
   "execution_count": 22,
   "metadata": {},
   "outputs": [
    {
     "name": "stdout",
     "output_type": "stream",
     "text": [
      "Terminal point:  0.0 0.927744797395 0.0\n",
      "28.799999999999997 0.848652079259 -0.342443947212\n",
      "0\n"
     ]
    },
    {
     "data": {
      "image/png": "[encoded data removed]",
      "text/plain": [
       "<matplotlib.figure.Figure at 0x1a15c1b630>"
      ]
     },
     "metadata": {},
     "output_type": "display_data"
    }
   ],
   "source": [
    "fig, ax = plt.subplots()\n",
    "for solution in primary_field2:\n",
    "    k = 0\n",
    "    for x0, entry in solution.items():\n",
    "        if (k==0):\n",
    "            print(\"Terminal point: \",entry['τ'][0],entry['x'][0],entry['φ'][0])\n",
    "            kk = 40\n",
    "            print(entry['τ'][kk],entry['x'][kk],entry['φ'][kk])\n",
    "            ρyy = [ρf(entry['x'][kk],entry['φ'][kk],σ,μ,μbar) for σ in σs]\n",
    "            plt.plot(σs,ρyy,linewidth=2,color=\"k\")\n",
    "            σimx = np.argmax(ρyy)\n",
    "            print(σimx)\n",
    "            plt.plot(σs[σimx],ρyy[σimx],'ro')\n",
    "            plt.plot(σs,[ρ1f(entry['x'][kk],entry['φ'][kk],σ,μ,μbar) for σ in σs],'g--',linewidth=1,zorder=-5)\n",
    "            plt.plot(σs,[-ρ2f(entry['x'][kk],entry['φ'][kk],σ,μ,μbar) for σ in σs],'b--',linewidth=1,zorder=-5)\n",
    "            plt.ylim([-.0002,.0042]);\n",
    "            break\n",
    "        k = k + 1\n",
    "plt.savefig(\"../figures/draft/AppendixFig1-C.pdf\",format='pdf',bbox_inches='tight')"
   ]
  },
  {
   "cell_type": "code",
   "execution_count": 23,
   "metadata": {},
   "outputs": [
    {
     "name": "stdout",
     "output_type": "stream",
     "text": [
      "Point on the universal curve:  50.04971965940882 0.77138782657 -0.409973129589\n",
      "82\n"
     ]
    },
    {
     "data": {
      "image/png": "[encoded data removed]",
      "text/plain": [
       "<matplotlib.figure.Figure at 0x1a0be96668>"
      ]
     },
     "metadata": {},
     "output_type": "display_data"
    }
   ],
   "source": [
    "fig, ax = plt.subplots()\n",
    "kk = 1\n",
    "xu = universal_curve[kk][1]\n",
    "φu = universal_curve[kk][2]\n",
    "print(\"Point on the universal curve: \",universal_curve[kk][0],xu,φu)\n",
    "\n",
    "ρyy = [ρf(xu,φu,σ,μ,μbar) for σ in σs]\n",
    "plt.plot(σs,ρyy,linewidth=2,color=\"k\")\n",
    "σimx = np.argmax(ρyy)\n",
    "print(σimx)\n",
    "plt.plot(σs[σimx],ρyy[σimx],'ro')\n",
    "plt.plot([0],ρyy[σimx],'ro')\n",
    "plt.plot(σs,[ρ1f(xu,φu,σ,μ,μbar) for σ in σs],'g--',linewidth=1,zorder=-5)\n",
    "plt.plot(σs,[-ρ2f(xu,φu,σ,μ,μbar) for σ in σs],'b--',linewidth=1,zorder=-5)\n",
    "plt.ylim([-.0002,.0042]);\n",
    "# ax.yaxis.set_major_formatter(plt.NullFormatter())\n",
    "plt.savefig(\"../figures/draft/AppendixFig1-D.pdf\",format='pdf',bbox_inches='tight')"
   ]
  },
  {
   "cell_type": "markdown",
   "metadata": {},
   "source": [
    "# Preparation for second figure"
   ]
  },
  {
   "cell_type": "code",
   "execution_count": 24,
   "metadata": {},
   "outputs": [
    {
     "data": {
      "image/png": "[encoded data removed]",
      "text/plain": [
       "<matplotlib.figure.Figure at 0x1a14d3cbe0>"
      ]
     },
     "metadata": {},
     "output_type": "display_data"
    }
   ],
   "source": [
    "# Plotting\n",
    "plt.rcParams['figure.figsize'] = (6.75, 4.5)\n",
    "_k = 0\n",
    "for solutions in primary_field1:\n",
    "    for x0, entry in solutions.items():\n",
    "        plt.plot(entry['τ'], entry['x'], '-', linewidth=1, color=clrs0[1])\n",
    "        _k += 1\n",
    "_k = 0\n",
    "for solutions in primary_field2:\n",
    "    for x0, entry in solutions.items():\n",
    "        plt.plot(entry['τ'], entry['x'], '-', linewidth=1, color=clrs0[1])\n",
    "        _k += 1\n",
    "plt.plot([x[0] for x in switching_curve],[x[1] for x in switching_curve],linewidth=3,color=clrs0[0],zorder=4,linestyle=\"dashed\")\n",
    "plt.plot([end_point[0]],[end_point[1]],marker='o',color=\"black\",zorder=4)\n",
    "plt.plot([x[0] for x in universal_curve],[x[1] for x in universal_curve],linewidth=3,color=clrs0[0],zorder=3)\n",
    "for tend in [80,110,140]:\n",
    "    tuniv = fsolve(get_finalizing_point_from_universal_curve,tend-20.,args=(tend,end_point,μ,μbar,))[0]\n",
    "    univ_point = get_state_universal(tuniv,end_point,μ,μbar)\n",
    "    trajectory = get_trajectory_with_σstar(univ_point,tend,50,μ,μbar)\n",
    "    plt.plot([x[0] for x in trajectory],[x[1] for x in trajectory],linewidth=1,color=clrs0[4])\n",
    "    trajectory = get_trajectory_with_given_σ(univ_point,tend+20,100,0,μ,μbar)\n",
    "    plt.plot([x[0] for x in trajectory],[x[1] for x in trajectory],linewidth=1,color=clrs0[4])\n",
    "plt.xlim([0,120]); plt.ylim([0,1]);\n",
    "plt.xlabel(\"backward time, days\"); plt.ylabel(\"fraction of resistant cells, \\%\")\n",
    "plt.show()"
   ]
  },
  {
   "cell_type": "code",
   "execution_count": 35,
   "metadata": {},
   "outputs": [
    {
     "name": "stdout",
     "output_type": "stream",
     "text": [
      "1.7519999999999998\n"
     ]
    },
    {
     "data": {
      "image/png": "[encoded data removed]",
      "text/plain": [
       "<matplotlib.figure.Figure at 0x1a14dbe0f0>"
      ]
     },
     "metadata": {},
     "output_type": "display_data"
    }
   ],
   "source": [
    "plt.rcParams['figure.figsize'] = (6.75, 4.5)\n",
    "\n",
    "_k = 0\n",
    "for solutions in primary_field1:\n",
    "    for x0, entry in solutions.items():\n",
    "        if _k==5:\n",
    "            sol = [[1,τ,σstarf(x,φ,μ,μbar),x,exp((b-d)*τ-V)] for τ,x,φ,V in zip(entry['τ'],entry['x'],entry['φ'],entry['V'])]\n",
    "        if _k==6:\n",
    "            trajectory_thr = [[τ,x,φ,V] for τ,x,φ,V in zip(entry['τ'],entry['x'],entry['φ'],entry['V'])]\n",
    "            sol += [[0,τ,σstarf(x,φ,μ,μbar),x,exp((b-d)*τ-V)] for τ,x,φ,V in trajectory_thr]\n",
    "            T0 = max([x[0] for x in trajectory_thr]) \n",
    "        _k += 1\n",
    "#plt.plot(τ1, x1, '-', linewidth=1, color=clrs0[1])\n",
    "#plt.plot(τthr, xthr, '--', linewidth=1, color=clrs0[1])\n",
    "print(T0/30.)\n",
    "\n",
    "\n",
    "plt.plot([end_point[0]],[end_point[1]],marker='o',color=\"black\",zorder=4)\n",
    "for tend in [120]:\n",
    "    tuniv = fsolve(get_finalizing_point_from_universal_curve,tend-20.,args=(tend,end_point,μ,μbar,))[0]\n",
    "    univ_point = get_state_universal(tuniv,end_point,μ,μbar)\n",
    "    trajectory = get_trajectory_with_σstar(univ_point,tend,50,μ,μbar)\n",
    "    plt.plot([x[0] for x in trajectory],[x[1] for x in trajectory],linewidth=1,color=clrs0[4])\n",
    "    sol += [[3,τ,σstarf(x,φ,μ,μbar),x,exp((b-d)*τ-V)] for τ,x,φ,V in trajectory]\n",
    "    universal_curve = get_universal_curve(end_point,univ_point[0],50,μ,μbar)\n",
    "    plt.plot([x[0] for x in universal_curve],[x[1] for x in universal_curve],linewidth=3,color=clrs0[0],zorder=3)\n",
    "    sol = [[3,τ,get_σ_universal(τ,end_point,μ,μbar),x,exp((b-d)*τ-V)] for τ,x,φ,V in universal_curve] + sol\n",
    "    trajectory = get_trajectory_with_σstar([0,end_switching_curve['x'],0,0],end_point[0],50,μ,μbar)\n",
    "    sol = [[3,τ,σstarf(x,φ,μ,μbar),x,exp((b-d)*τ-V)] for τ,x,φ,V in trajectory] + sol\n",
    "for tend in [129]:\n",
    "    tuniv = fsolve(get_finalizing_point_from_universal_curve,tend-20.,args=(tend,end_point,μ,μbar,))[0]\n",
    "    univ_point = get_state_universal(tuniv,end_point,μ,μbar)\n",
    "    trajectory = get_trajectory_with_σstar(univ_point,tend,50,μ,μbar)\n",
    "    trajectory = get_trajectory_with_given_σ(univ_point,tend+20,100,0,μ,μbar)\n",
    "    plt.plot([x[0] for x in trajectory],[x[1] for x in trajectory],linewidth=1,color=clrs0[4])\n",
    "    sol += [[2,τ,σstarf(x,φ,μ,μbar),x,exp((b-d)*τ-V)] for τ,x,φ,V in trajectory]\n",
    "    universal_curve = get_universal_curve(end_point,univ_point[0],50,μ,μbar)\n",
    "    plt.plot([x[0] for x in universal_curve],[x[1] for x in universal_curve],linewidth=3,color=clrs0[0],zorder=3)\n",
    "    sol = [[2,τ,get_σ_universal(τ,end_point,μ,μbar),x,exp((b-d)*τ-V)] for τ,x,φ,V in universal_curve] + sol\n",
    "    trajectory = get_trajectory_with_σstar([0,end_switching_curve['x'],0,0],end_point[0],50,μ,μbar)\n",
    "    sol = [[2,τ,σstarf(x,φ,μ,μbar),x,exp((b-d)*τ-V)] for τ,x,φ,V in trajectory] + sol\n",
    "plt.xlim([0,120]); plt.ylim([0,1]);\n",
    "plt.xlabel(\"backward time, days\"); plt.ylabel(\"fraction of resistant cells, \\%\")\n",
    "plt.show()"
   ]
  },
  {
   "cell_type": "code",
   "execution_count": 38,
   "metadata": {
    "collapsed": true
   },
   "outputs": [],
   "source": [
    "pd.DataFrame(sol).to_csv('../figures/draft/Fig4-trjs_optimal.csv',index=False,header=False)"
   ]
  },
  {
   "cell_type": "code",
   "execution_count": null,
   "metadata": {
    "collapsed": true
   },
   "outputs": [],
   "source": []
  }
 ],
 "metadata": {
  "anaconda-cloud": {},
  "kernelspec": {
   "display_name": "Python 3",
   "language": "python",
   "name": "python3"
  },
  "language_info": {
   "codemirror_mode": {
    "name": "ipython",
    "version": 3
   },
   "file_extension": ".py",
   "mimetype": "text/x-python",
   "name": "python",
   "nbconvert_exporter": "python",
   "pygments_lexer": "ipython3",
   "version": "3.6.6"
  }
 },
 "nbformat": 4,
 "nbformat_minor": 1
}
